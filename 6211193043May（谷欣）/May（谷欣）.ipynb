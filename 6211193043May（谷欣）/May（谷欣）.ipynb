{
 "cells": [
  {
   "cell_type": "code",
   "execution_count": 1,
   "id": "7204e637",
   "metadata": {},
   "outputs": [
    {
     "name": "stdout",
     "output_type": "stream",
     "text": [
      "23\n"
     ]
    }
   ],
   "source": [
    "#Declare your age as integer variable\n",
    "a=age = 23\n",
    "print(a)"
   ]
  },
  {
   "cell_type": "code",
   "execution_count": 2,
   "id": "d2933492",
   "metadata": {},
   "outputs": [
    {
     "name": "stdout",
     "output_type": "stream",
     "text": [
      "1.61\n"
     ]
    }
   ],
   "source": [
    "#Declare your height as a float variable\n",
    "b=height = 1.61\n",
    "print(b)"
   ]
  },
  {
   "cell_type": "code",
   "execution_count": 3,
   "id": "df87ead2",
   "metadata": {},
   "outputs": [
    {
     "name": "stdout",
     "output_type": "stream",
     "text": [
      "24.61 <class 'float'>\n"
     ]
    }
   ],
   "source": [
    "#Declare a variable that store a complex number\n",
    "c= a+b\n",
    "print(c,type(c))"
   ]
  },
  {
   "cell_type": "code",
   "execution_count": 1,
   "id": "8d0e82cc",
   "metadata": {},
   "outputs": [
    {
     "name": "stdout",
     "output_type": "stream",
     "text": [
      "plz input base:2\n",
      "plz input height:4\n",
      "4\n"
     ]
    }
   ],
   "source": [
    "#Write a code that prompts the user to enter base and height of the triangle and calculate an area of this triangle (area = 0.5 x b x h).\n",
    "base =int(input(\"plz input base:\"))\n",
    "height = int(input(\"plz input height:\"))\n",
    "area = 0.5*base*height\n",
    "print(int(area))"
   ]
  },
  {
   "cell_type": "code",
   "execution_count": 4,
   "id": "c647915c",
   "metadata": {},
   "outputs": [
    {
     "name": "stdout",
     "output_type": "stream",
     "text": [
      "plz input side a:2\n",
      "plz input side b:3\n",
      "plz input side c:4\n",
      "9\n"
     ]
    }
   ],
   "source": [
    "#Write a code that prompts the user to enter side a, side b, and side c of the triangle. Calculate the perimeter of the triangle (perimeter = a + b + c).\n",
    "sda =int(input(\"plz input side a:\"))\n",
    "sdb = int(input(\"plz input side b:\"))\n",
    "sdc = int(input(\"plz input side c:\"))\n",
    "perimeter = sda+sdb+sdc\n",
    "print(int(perimeter))"
   ]
  },
  {
   "cell_type": "code",
   "execution_count": 5,
   "id": "b83c64de",
   "metadata": {},
   "outputs": [
    {
     "name": "stdout",
     "output_type": "stream",
     "text": [
      "plz input the length 2\n",
      "plz input the width 4\n",
      "area is: 8\n",
      "perimeter is: 12\n"
     ]
    }
   ],
   "source": [
    "#Get length and width of a rectangle using prompt. Calculate its area (area = length x width) and perimeter (perimeter = 2 x (length + width))print('The perimeter =12,side a =5,side b =4')\n",
    "length = int(input('plz input the length '))\n",
    "width = int(input('plz input the width '))\n",
    "area = length*width\n",
    "print(\"area is:\",area)\n",
    "perimeter = 2*(length+width)\n",
    "print(\"perimeter is:\",perimeter)"
   ]
  },
  {
   "cell_type": "code",
   "execution_count": 6,
   "id": "82274c58",
   "metadata": {},
   "outputs": [
    {
     "name": "stdout",
     "output_type": "stream",
     "text": [
      "plz input the radius 4\n",
      "area is: 50.24\n",
      "circumference is: 25.12\n"
     ]
    }
   ],
   "source": [
    "#Get radius of a circle using prompt. Calculate the area (area = pi x r x r) and circumference (c = 2 x pi x r) where pi = 3.14.\n",
    "radius = int(input('plz input the radius '))\n",
    "area = 3.14*radius*radius\n",
    "circumference = 2*3.14*radius\n",
    "print(\"area is:\",float(area))\n",
    "print(\"circumference is:\",float(circumference))"
   ]
  },
  {
   "cell_type": "code",
   "execution_count": 7,
   "id": "ad0d383d",
   "metadata": {},
   "outputs": [
    {
     "name": "stdout",
     "output_type": "stream",
     "text": [
      "8\n"
     ]
    }
   ],
   "source": [
    "#Find the slope and Euclidean distance between point (2, 2) and point (6,10)\n",
    "import numpy as np\n",
    "import math\n",
    "p1=np.array([2,2])\n",
    "p2=np.array([6,10])\n",
    "p3=p2-p1\n",
    "p4=math.hypot(p3[0],p3[1])\n",
    "print(int(p4))"
   ]
  },
  {
   "cell_type": "code",
   "execution_count": 8,
   "id": "3e1c2460",
   "metadata": {},
   "outputs": [
    {
     "name": "stdout",
     "output_type": "stream",
     "text": [
      "2\n"
     ]
    }
   ],
   "source": [
    "#Find the slope and Euclidean distance between point (2, 2) and point (6,10)\n",
    "p1 = [2, 2]\n",
    "p2 = [6, 10] \n",
    "slope = abs((p1[1] - p2[1]) / (p1[0] - p2[0] )) \n",
    "print(int(slope))"
   ]
  },
  {
   "cell_type": "code",
   "execution_count": 9,
   "id": "e32f591a",
   "metadata": {},
   "outputs": [
    {
     "name": "stdout",
     "output_type": "stream",
     "text": [
      "[-3]\n"
     ]
    }
   ],
   "source": [
    "#Calculate the value of y ( 𝑦=𝑥*x+6𝑥+9 ). Try to use different x values and figure out at what x value y is going to be 0.\n",
    "from sympy import *\n",
    "x = symbols('x')\n",
    "print(solve(x*x+6*x+9,x))"
   ]
  },
  {
   "cell_type": "code",
   "execution_count": 10,
   "id": "42c42264",
   "metadata": {},
   "outputs": [
    {
     "data": {
      "text/plain": [
       "False"
      ]
     },
     "execution_count": 10,
     "metadata": {},
     "output_type": "execute_result"
    }
   ],
   "source": [
    "#Find the length of 'python' and 'datascience' and make a falsy comparison statement.\n",
    "len(str('python'))\n",
    "len(str('python'))\n",
    "len(str('python'))>len(str('python'))"
   ]
  },
  {
   "cell_type": "code",
   "execution_count": 11,
   "id": "ea078f55",
   "metadata": {},
   "outputs": [
    {
     "name": "stdout",
     "output_type": "stream",
     "text": [
      "true\n"
     ]
    }
   ],
   "source": [
    "#I hope this course is not full of jargon. Use in operator to check if jargon is in the sentence.\n",
    "a = 'I hope this course is not full of jargon.'\n",
    "if 'jargon' in a:\n",
    "    print('true')\n",
    "else:\n",
    "    print(flase)"
   ]
  },
  {
   "cell_type": "code",
   "execution_count": 12,
   "id": "3f7157f0",
   "metadata": {},
   "outputs": [
    {
     "name": "stdout",
     "output_type": "stream",
     "text": [
      "6.0\n"
     ]
    }
   ],
   "source": [
    "#Find the length of the text python and convert the value to float and convert it to string\n",
    "print(str(float(len(str('python')))))"
   ]
  },
  {
   "cell_type": "code",
   "execution_count": 13,
   "id": "d7819cd2",
   "metadata": {},
   "outputs": [
    {
     "name": "stdout",
     "output_type": "stream",
     "text": [
      "a:4\n",
      "even\n"
     ]
    }
   ],
   "source": [
    "#Even numbers are divisible by 2 and the remainder is zero. How do you check if a number is even or not using python?\n",
    "num =int( input('a:'))\n",
    "if num % 2 == 0:\n",
    "    print('even')\n",
    "else:\n",
    "    print('odd')\n",
    "\n"
   ]
  },
  {
   "cell_type": "code",
   "execution_count": 14,
   "id": "9329d858",
   "metadata": {},
   "outputs": [
    {
     "data": {
      "text/plain": [
       "False"
      ]
     },
     "execution_count": 14,
     "metadata": {},
     "output_type": "execute_result"
    }
   ],
   "source": [
    "#Check if the floor division of 7 by 3 is equal to the int converted value of 2.7.\n",
    "7/3 ==2.7"
   ]
  },
  {
   "cell_type": "code",
   "execution_count": 15,
   "id": "338ccaf5",
   "metadata": {},
   "outputs": [
    {
     "data": {
      "text/plain": [
       "False"
      ]
     },
     "execution_count": 15,
     "metadata": {},
     "output_type": "execute_result"
    }
   ],
   "source": [
    "#Check if type of \"10\" is equal to type of 10\n",
    "type('10') == type(10)"
   ]
  },
  {
   "cell_type": "code",
   "execution_count": null,
   "id": "9eb22071",
   "metadata": {},
   "outputs": [],
   "source": []
  }
 ],
 "metadata": {
  "kernelspec": {
   "display_name": "Python 3",
   "language": "python",
   "name": "python3"
  },
  "language_info": {
   "codemirror_mode": {
    "name": "ipython",
    "version": 3
   },
   "file_extension": ".py",
   "mimetype": "text/x-python",
   "name": "python",
   "nbconvert_exporter": "python",
   "pygments_lexer": "ipython3",
   "version": "3.8.8"
  },
  "toc": {
   "base_numbering": 1,
   "nav_menu": {},
   "number_sections": true,
   "sideBar": true,
   "skip_h1_title": false,
   "title_cell": "Table of Contents",
   "title_sidebar": "Contents",
   "toc_cell": false,
   "toc_position": {},
   "toc_section_display": true,
   "toc_window_display": false
  }
 },
 "nbformat": 4,
 "nbformat_minor": 5
}
